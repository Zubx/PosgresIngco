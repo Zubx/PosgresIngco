{
 "cells": [
  {
   "cell_type": "markdown",
   "metadata": {},
   "source": []
  },
  {
   "cell_type": "code",
   "execution_count": 82,
   "metadata": {},
   "outputs": [],
   "source": [
    "import os\n",
    "import numpy as np\n",
    "import pandas as pd\n",
    "import psycopg2"
   ]
  },
  {
   "cell_type": "code",
   "execution_count": 83,
   "metadata": {},
   "outputs": [
    {
     "name": "stdout",
     "output_type": "stream",
     "text": [
      " Volume in drive D has no label.\n",
      " Volume Serial Number is 0C45-8BC1\n",
      "\n",
      " Directory of d:\\Coding\\Git\\PosgresIngco\n",
      "\n",
      "2022-08-26  17:09    <DIR>          .\n",
      "2022-08-26  17:09    <DIR>          ..\n",
      "2022-08-26  14:47             3,131 2022 Revenue 26aug$.csv\n",
      "2022-08-26  14:47             3,131 pen jualan$.csv\n",
      "2022-08-26  17:14             3,132 pen_jualan.csv\n",
      "2022-08-19  11:22                34 README.md\n",
      "2022-08-26  13:29             7,463 test.ipynb\n",
      "               5 File(s)         16,891 bytes\n",
      "               2 Dir(s)  56,684,576,768 bytes free\n"
     ]
    }
   ],
   "source": [
    "ls"
   ]
  },
  {
   "cell_type": "code",
   "execution_count": 84,
   "metadata": {},
   "outputs": [
    {
     "data": {
      "text/html": [
       "<div>\n",
       "<style scoped>\n",
       "    .dataframe tbody tr th:only-of-type {\n",
       "        vertical-align: middle;\n",
       "    }\n",
       "\n",
       "    .dataframe tbody tr th {\n",
       "        vertical-align: top;\n",
       "    }\n",
       "\n",
       "    .dataframe thead th {\n",
       "        text-align: right;\n",
       "    }\n",
       "</style>\n",
       "<table border=\"1\" class=\"dataframe\">\n",
       "  <thead>\n",
       "    <tr style=\"text-align: right;\">\n",
       "      <th></th>\n",
       "      <th>Tanggal</th>\n",
       "      <th>Sku</th>\n",
       "      <th>No. Pesanan</th>\n",
       "      <th>QTY</th>\n",
       "      <th>Asal Gudang</th>\n",
       "      <th>Total</th>\n",
       "      <th>Sumber</th>\n",
       "      <th>Jenis_Penjualan</th>\n",
       "      <th>Kode Sumber</th>\n",
       "    </tr>\n",
       "  </thead>\n",
       "  <tbody>\n",
       "    <tr>\n",
       "      <th>0</th>\n",
       "      <td>2020-10-13</td>\n",
       "      <td>CAGLI1001</td>\n",
       "      <td>INV/20200928/XX/IX/639426010</td>\n",
       "      <td>1</td>\n",
       "      <td>HQ [Online] - Bintaro</td>\n",
       "      <td>Rp800,000</td>\n",
       "      <td>Tokopedia</td>\n",
       "      <td>Online</td>\n",
       "      <td>4</td>\n",
       "    </tr>\n",
       "    <tr>\n",
       "      <th>1</th>\n",
       "      <td>2020-10-13</td>\n",
       "      <td>HKISSD12101</td>\n",
       "      <td>INV/20201013/XX/X/650891804</td>\n",
       "      <td>1</td>\n",
       "      <td>TC Jakarta - TokoCabang</td>\n",
       "      <td>Rp221,500</td>\n",
       "      <td>Tokopedia</td>\n",
       "      <td>Online</td>\n",
       "      <td>4</td>\n",
       "    </tr>\n",
       "    <tr>\n",
       "      <th>2</th>\n",
       "      <td>2020-10-13</td>\n",
       "      <td>ID6808</td>\n",
       "      <td>INV/20201013/XX/X/651141057</td>\n",
       "      <td>1</td>\n",
       "      <td>TC Jakarta - TokoCabang</td>\n",
       "      <td>Rp384,413</td>\n",
       "      <td>Tokopedia</td>\n",
       "      <td>Online</td>\n",
       "      <td>4</td>\n",
       "    </tr>\n",
       "    <tr>\n",
       "      <th>3</th>\n",
       "      <td>2020-10-14</td>\n",
       "      <td>HKNS16518</td>\n",
       "      <td>INV/20201014/XX/X/651431074</td>\n",
       "      <td>1</td>\n",
       "      <td>TC Jakarta - TokoCabang</td>\n",
       "      <td>Rp15,500</td>\n",
       "      <td>Tokopedia</td>\n",
       "      <td>Online</td>\n",
       "      <td>4</td>\n",
       "    </tr>\n",
       "    <tr>\n",
       "      <th>4</th>\n",
       "      <td>2020-10-14</td>\n",
       "      <td>HKSD0628</td>\n",
       "      <td>INV/20201014/XX/X/651431074</td>\n",
       "      <td>1</td>\n",
       "      <td>TC Jakarta - TokoCabang</td>\n",
       "      <td>Rp71,500</td>\n",
       "      <td>Tokopedia</td>\n",
       "      <td>Online</td>\n",
       "      <td>4</td>\n",
       "    </tr>\n",
       "  </tbody>\n",
       "</table>\n",
       "</div>"
      ],
      "text/plain": [
       "     Tanggal          Sku                   No. Pesanan  QTY  \\\n",
       "0 2020-10-13    CAGLI1001  INV/20200928/XX/IX/639426010    1   \n",
       "1 2020-10-13  HKISSD12101   INV/20201013/XX/X/650891804    1   \n",
       "2 2020-10-13       ID6808   INV/20201013/XX/X/651141057    1   \n",
       "3 2020-10-14    HKNS16518   INV/20201014/XX/X/651431074    1   \n",
       "4 2020-10-14     HKSD0628   INV/20201014/XX/X/651431074    1   \n",
       "\n",
       "               Asal Gudang      Total     Sumber Jenis_Penjualan  Kode Sumber  \n",
       "0    HQ [Online] - Bintaro  Rp800,000  Tokopedia          Online            4  \n",
       "1  TC Jakarta - TokoCabang  Rp221,500  Tokopedia          Online            4  \n",
       "2  TC Jakarta - TokoCabang  Rp384,413  Tokopedia          Online            4  \n",
       "3  TC Jakarta - TokoCabang   Rp15,500  Tokopedia          Online            4  \n",
       "4  TC Jakarta - TokoCabang   Rp71,500  Tokopedia          Online            4  "
      ]
     },
     "execution_count": 84,
     "metadata": {},
     "output_type": "execute_result"
    }
   ],
   "source": [
    "df = pd.read_csv(\"pen jualan$.csv\", parse_dates=[\"Tanggal\"])\n",
    "df.head()"
   ]
  },
  {
   "cell_type": "code",
   "execution_count": 85,
   "metadata": {},
   "outputs": [
    {
     "data": {
      "text/plain": [
       "'pen_jualan'"
      ]
     },
     "execution_count": 85,
     "metadata": {},
     "output_type": "execute_result"
    }
   ],
   "source": [
    "#rename csv, force lower case, no spaces, no dashes\n",
    "file = \"pen jualan$\"\n",
    "clean_tbl_name = file.lower().replace(\" \", \"_\").replace(\"-\",\"_\").replace(r\"/\",\"_\").replace(\"\\\\\",\"_\").replace(\"$\",\"\").replace(\"%\",\"\")\n",
    "\n",
    "clean_tbl_name"
   ]
  },
  {
   "cell_type": "code",
   "execution_count": 86,
   "metadata": {},
   "outputs": [
    {
     "data": {
      "text/plain": [
       "Index(['tanggal', 'sku', 'no_pesanan', 'qty', 'asal_gudang', 'total', 'sumber',\n",
       "       'jenis_penjualan', 'kode_sumber'],\n",
       "      dtype='object')"
      ]
     },
     "execution_count": 86,
     "metadata": {},
     "output_type": "execute_result"
    }
   ],
   "source": [
    "df.columns = [x.lower().replace(\" \", \"_\").replace(\"-\",\"_\").replace(r\"/\",\"_\").replace(\"\\\\\",\"_\").replace(\"$\",\"\").replace(\"%\",\"\").replace(\".\", \"\") for x in df.columns]\n",
    "\n",
    "df.columns"
   ]
  },
  {
   "cell_type": "code",
   "execution_count": 87,
   "metadata": {},
   "outputs": [
    {
     "data": {
      "text/plain": [
       "tanggal            datetime64[ns]\n",
       "sku                        object\n",
       "no_pesanan                 object\n",
       "qty                         int64\n",
       "asal_gudang                object\n",
       "total                      object\n",
       "sumber                     object\n",
       "jenis_penjualan            object\n",
       "kode_sumber                 int64\n",
       "dtype: object"
      ]
     },
     "execution_count": 87,
     "metadata": {},
     "output_type": "execute_result"
    }
   ],
   "source": [
    "df.dtypes"
   ]
  },
  {
   "cell_type": "code",
   "execution_count": 88,
   "metadata": {},
   "outputs": [
    {
     "data": {
      "text/plain": [
       "'tanggal timestamp, sku varchar, no_pesanan varchar, qty int, asal_gudang varchar, total varchar, sumber varchar, jenis_penjualan varchar, kode_sumber int'"
      ]
     },
     "execution_count": 88,
     "metadata": {},
     "output_type": "execute_result"
    }
   ],
   "source": [
    "replacements = {'timedelta64[ns]': 'varchar',\n",
    "        'object': 'varchar',\n",
    "        'float64': 'float',\n",
    "        'int64': 'int',\n",
    "        'datetime64': 'timestamp',\n",
    "        'datetime64[ns]': 'timestamp'}\n",
    "\n",
    "col_str = \", \".join(\"{} {}\".format(n, d) for (n, d) in zip(df.columns, df.dtypes.replace(replacements)))\n",
    "col_str"
   ]
  },
  {
   "cell_type": "code",
   "execution_count": 89,
   "metadata": {},
   "outputs": [
    {
     "name": "stdout",
     "output_type": "stream",
     "text": [
      "opened database successfully\n"
     ]
    }
   ],
   "source": [
    "conn_string = \"host= zubdb.cabyoqiwyaa1.us-west-1.rds.amazonaws.com dbname= postgres user= zubdev password= E3413o079#\" \n",
    "conn = psycopg2.connect(conn_string)\n",
    "cursor = conn.cursor()\n",
    "print('opened database successfully')"
   ]
  },
  {
   "cell_type": "code",
   "execution_count": 90,
   "metadata": {},
   "outputs": [
    {
     "name": "stdout",
     "output_type": "stream",
     "text": [
      "sukses menghapus yang sebelumnya\n"
     ]
    }
   ],
   "source": [
    "#drop table with the same name\n",
    "cursor.execute(\"drop table if exists pen_jualan;\")\n",
    "print('sukses menghapus yang sebelumnya')"
   ]
  },
  {
   "cell_type": "code",
   "execution_count": 91,
   "metadata": {},
   "outputs": [
    {
     "name": "stdout",
     "output_type": "stream",
     "text": [
      "table terbuat\n"
     ]
    }
   ],
   "source": [
    "#create table\n",
    "cursor.execute(\"create table pen_jualan (tanggal timestamp, sku varchar, no_pesanan varchar, qty int, asal_gudang varchar, total varchar, sumber varchar, jenis_penjualan varchar, kode_sumber int);\")\n",
    "print('table terbuat')"
   ]
  },
  {
   "cell_type": "code",
   "execution_count": 92,
   "metadata": {},
   "outputs": [
    {
     "name": "stdout",
     "output_type": "stream",
     "text": [
      "file dibuka di memory\n"
     ]
    }
   ],
   "source": [
    "#insert value to table \n",
    "\n",
    "## save df to csv\n",
    "df.to_csv('pen_jualan.csv', header=df.columns, index=False, encoding='utf-8')\n",
    "\n",
    "##open the csv file, save it as an object and upload to db\n",
    "my_file = open('pen_jualan.csv')\n",
    "print(\"file dibuka di memory\")"
   ]
  },
  {
   "cell_type": "code",
   "execution_count": 93,
   "metadata": {},
   "outputs": [
    {
     "name": "stdout",
     "output_type": "stream",
     "text": [
      "file copied to db\n"
     ]
    }
   ],
   "source": [
    "#upload to db\n",
    "SQL_STATEMENT = \"\"\"\n",
    "    COPY pen_jualan FROM STDIN WITH\n",
    "        CSV\n",
    "        HEADER\n",
    "        DELIMITER AS ','\n",
    "    \"\"\"\n",
    "\n",
    "cursor.copy_expert(sql=SQL_STATEMENT, file=my_file)\n",
    "print('file copied to db')"
   ]
  },
  {
   "cell_type": "code",
   "execution_count": 94,
   "metadata": {},
   "outputs": [
    {
     "name": "stdout",
     "output_type": "stream",
     "text": [
      "table penjualan imported to db completed\n"
     ]
    }
   ],
   "source": [
    "cursor.execute(\"grant select on table pen_jualan to public\")\n",
    "conn.commit()\n",
    "cursor.close()\n",
    "print('table penjualan imported to db completed')"
   ]
  },
  {
   "cell_type": "code",
   "execution_count": 95,
   "metadata": {},
   "outputs": [],
   "source": [
    "## Oke zub ini sudah sukses masuk, kursor terakhir buat select schema ternyata, ini aku belom nyobain kalau dia ke rawinput gimana\n",
    "# "
   ]
  }
 ],
 "metadata": {
  "kernelspec": {
   "display_name": "Python 3.9.12 ('base')",
   "language": "python",
   "name": "python3"
  },
  "language_info": {
   "codemirror_mode": {
    "name": "ipython",
    "version": 3
   },
   "file_extension": ".py",
   "mimetype": "text/x-python",
   "name": "python",
   "nbconvert_exporter": "python",
   "pygments_lexer": "ipython3",
   "version": "3.9.12"
  },
  "orig_nbformat": 4,
  "vscode": {
   "interpreter": {
    "hash": "48b0616dffff3b7662136d045a5b5e926284a2b8382e9a5a6cebe7bf4e8018d9"
   }
  }
 },
 "nbformat": 4,
 "nbformat_minor": 2
}
