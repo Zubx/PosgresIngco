{
 "cells": [
  {
   "cell_type": "markdown",
   "metadata": {},
   "source": []
  },
  {
   "cell_type": "code",
   "execution_count": 3,
   "metadata": {},
   "outputs": [],
   "source": [
    "import os\n",
    "import numpy as np\n",
    "import pandas as pd\n",
    "import psycopg2"
   ]
  },
  {
   "cell_type": "code",
   "execution_count": 10,
   "metadata": {},
   "outputs": [
    {
     "name": "stdout",
     "output_type": "stream",
     "text": [
      " Volume in drive D has no label.\n",
      " Volume Serial Number is 0C45-8BC1\n",
      "\n",
      " Directory of d:\\Coding\\Git\\PosgresIngco\n",
      "\n",
      "08/24/2022  03:48 PM    <DIR>          .\n",
      "08/24/2022  03:48 PM    <DIR>          ..\n",
      "08/24/2022  03:08 PM               917 pen jualan$.csv\n",
      "08/19/2022  11:22 AM                34 README.md\n",
      "08/24/2022  01:25 PM             1,728 test.ipynb\n",
      "               3 File(s)          2,679 bytes\n",
      "               2 Dir(s)  56,710,979,584 bytes free\n"
     ]
    }
   ],
   "source": [
    "ls"
   ]
  },
  {
   "cell_type": "code",
   "execution_count": 9,
   "metadata": {},
   "outputs": [
    {
     "data": {
      "text/html": [
       "<div>\n",
       "<style scoped>\n",
       "    .dataframe tbody tr th:only-of-type {\n",
       "        vertical-align: middle;\n",
       "    }\n",
       "\n",
       "    .dataframe tbody tr th {\n",
       "        vertical-align: top;\n",
       "    }\n",
       "\n",
       "    .dataframe thead th {\n",
       "        text-align: right;\n",
       "    }\n",
       "</style>\n",
       "<table border=\"1\" class=\"dataframe\">\n",
       "  <thead>\n",
       "    <tr style=\"text-align: right;\">\n",
       "      <th></th>\n",
       "      <th>Tanggal</th>\n",
       "      <th>Sku</th>\n",
       "      <th>No. Pesanan</th>\n",
       "      <th>QTY</th>\n",
       "      <th>Asal Gudang</th>\n",
       "      <th>Total</th>\n",
       "      <th>Sumber</th>\n",
       "      <th>Jenis Penjualan</th>\n",
       "      <th>Kode Sumber</th>\n",
       "    </tr>\n",
       "  </thead>\n",
       "  <tbody>\n",
       "    <tr>\n",
       "      <th>0</th>\n",
       "      <td>10/13/2020</td>\n",
       "      <td>CAGLI1001</td>\n",
       "      <td>INV/20200928/XX/IX/639426010</td>\n",
       "      <td>1</td>\n",
       "      <td>HQ [Online] - Bintaro</td>\n",
       "      <td>Rp800,000</td>\n",
       "      <td>Tokopedia</td>\n",
       "      <td>Online</td>\n",
       "      <td>4</td>\n",
       "    </tr>\n",
       "    <tr>\n",
       "      <th>1</th>\n",
       "      <td>10/13/2020</td>\n",
       "      <td>HKISSD12101</td>\n",
       "      <td>INV/20201013/XX/X/650891804</td>\n",
       "      <td>1</td>\n",
       "      <td>TC Jakarta - TokoCabang</td>\n",
       "      <td>Rp221,500</td>\n",
       "      <td>Tokopedia</td>\n",
       "      <td>Online</td>\n",
       "      <td>4</td>\n",
       "    </tr>\n",
       "    <tr>\n",
       "      <th>2</th>\n",
       "      <td>10/13/2020</td>\n",
       "      <td>ID6808</td>\n",
       "      <td>INV/20201013/XX/X/651141057</td>\n",
       "      <td>1</td>\n",
       "      <td>TC Jakarta - TokoCabang</td>\n",
       "      <td>Rp384,413</td>\n",
       "      <td>Tokopedia</td>\n",
       "      <td>Online</td>\n",
       "      <td>4</td>\n",
       "    </tr>\n",
       "    <tr>\n",
       "      <th>3</th>\n",
       "      <td>10/14/2020</td>\n",
       "      <td>HKNS16518</td>\n",
       "      <td>INV/20201014/XX/X/651431074</td>\n",
       "      <td>1</td>\n",
       "      <td>TC Jakarta - TokoCabang</td>\n",
       "      <td>Rp15,500</td>\n",
       "      <td>Tokopedia</td>\n",
       "      <td>Online</td>\n",
       "      <td>4</td>\n",
       "    </tr>\n",
       "    <tr>\n",
       "      <th>4</th>\n",
       "      <td>10/14/2020</td>\n",
       "      <td>HKSD0628</td>\n",
       "      <td>INV/20201014/XX/X/651431074</td>\n",
       "      <td>1</td>\n",
       "      <td>TC Jakarta - TokoCabang</td>\n",
       "      <td>Rp71,500</td>\n",
       "      <td>Tokopedia</td>\n",
       "      <td>Online</td>\n",
       "      <td>4</td>\n",
       "    </tr>\n",
       "  </tbody>\n",
       "</table>\n",
       "</div>"
      ],
      "text/plain": [
       "      Tanggal          Sku                   No. Pesanan  QTY  \\\n",
       "0  10/13/2020    CAGLI1001  INV/20200928/XX/IX/639426010    1   \n",
       "1  10/13/2020  HKISSD12101   INV/20201013/XX/X/650891804    1   \n",
       "2  10/13/2020       ID6808   INV/20201013/XX/X/651141057    1   \n",
       "3  10/14/2020    HKNS16518   INV/20201014/XX/X/651431074    1   \n",
       "4  10/14/2020     HKSD0628   INV/20201014/XX/X/651431074    1   \n",
       "\n",
       "               Asal Gudang     Total      Sumber Jenis Penjualan  Kode Sumber  \n",
       "0    HQ [Online] - Bintaro  Rp800,000  Tokopedia          Online            4  \n",
       "1  TC Jakarta - TokoCabang  Rp221,500  Tokopedia          Online            4  \n",
       "2  TC Jakarta - TokoCabang  Rp384,413  Tokopedia          Online            4  \n",
       "3  TC Jakarta - TokoCabang   Rp15,500  Tokopedia          Online            4  \n",
       "4  TC Jakarta - TokoCabang   Rp71,500  Tokopedia          Online            4  "
      ]
     },
     "execution_count": 9,
     "metadata": {},
     "output_type": "execute_result"
    }
   ],
   "source": [
    "df = pd.read_csv(\"pen jualan$.csv\")\n",
    "df.head()"
   ]
  },
  {
   "cell_type": "code",
   "execution_count": 15,
   "metadata": {},
   "outputs": [
    {
     "data": {
      "text/plain": [
       "'pen_jualan'"
      ]
     },
     "execution_count": 15,
     "metadata": {},
     "output_type": "execute_result"
    }
   ],
   "source": [
    "#rename csv, force lower case, no spaces, no dashes\n",
    "file = \"pen jualan$\"\n",
    "clean_tbl_name = file.lower().replace(\" \", \"_\").replace(\"-\",\"_\").replace(r\"/\",\"_\").replace(\"\\\\\",\"_\").replace(\"$\",\"\").replace(\"%\",\"\")\n",
    "\n",
    "clean_tbl_name"
   ]
  },
  {
   "cell_type": "code",
   "execution_count": 19,
   "metadata": {},
   "outputs": [
    {
     "ename": "OperationalError",
     "evalue": "connection to server at \"zubdb.cabyoqiwyaa1.us-west-1.rds.amazonaws.com\" (52.53.110.229), port 5432 failed: FATAL:  database \"zubdb\" does not exist\n",
     "output_type": "error",
     "traceback": [
      "\u001b[1;31m---------------------------------------------------------------------------\u001b[0m",
      "\u001b[1;31mOperationalError\u001b[0m                          Traceback (most recent call last)",
      "\u001b[1;32md:\\Coding\\Git\\PosgresIngco\\test.ipynb Cell 6\u001b[0m in \u001b[0;36m<cell line: 2>\u001b[1;34m()\u001b[0m\n\u001b[0;32m      <a href='vscode-notebook-cell:/d%3A/Coding/Git/PosgresIngco/test.ipynb#W6sZmlsZQ%3D%3D?line=0'>1</a>\u001b[0m conn_string \u001b[39m=\u001b[39m \u001b[39m\"\u001b[39m\u001b[39mhost= zubdb.cabyoqiwyaa1.us-west-1.rds.amazonaws.com dbname= zubdb user= zubdev password= E3413o079#\u001b[39m\u001b[39m\"\u001b[39m \n\u001b[1;32m----> <a href='vscode-notebook-cell:/d%3A/Coding/Git/PosgresIngco/test.ipynb#W6sZmlsZQ%3D%3D?line=1'>2</a>\u001b[0m conn \u001b[39m=\u001b[39m psycopg2\u001b[39m.\u001b[39;49mconnect(conn_string)\n\u001b[0;32m      <a href='vscode-notebook-cell:/d%3A/Coding/Git/PosgresIngco/test.ipynb#W6sZmlsZQ%3D%3D?line=2'>3</a>\u001b[0m cursor \u001b[39m=\u001b[39m conn\u001b[39m.\u001b[39mcursor()\n\u001b[0;32m      <a href='vscode-notebook-cell:/d%3A/Coding/Git/PosgresIngco/test.ipynb#W6sZmlsZQ%3D%3D?line=3'>4</a>\u001b[0m \u001b[39mprint\u001b[39m(\u001b[39m'\u001b[39m\u001b[39mopened database successfully\u001b[39m\u001b[39m'\u001b[39m)\n",
      "File \u001b[1;32mc:\\Users\\ZUBAIR\\anaconda3\\lib\\site-packages\\psycopg2\\__init__.py:122\u001b[0m, in \u001b[0;36mconnect\u001b[1;34m(dsn, connection_factory, cursor_factory, **kwargs)\u001b[0m\n\u001b[0;32m    119\u001b[0m     kwasync[\u001b[39m'\u001b[39m\u001b[39masync_\u001b[39m\u001b[39m'\u001b[39m] \u001b[39m=\u001b[39m kwargs\u001b[39m.\u001b[39mpop(\u001b[39m'\u001b[39m\u001b[39masync_\u001b[39m\u001b[39m'\u001b[39m)\n\u001b[0;32m    121\u001b[0m dsn \u001b[39m=\u001b[39m _ext\u001b[39m.\u001b[39mmake_dsn(dsn, \u001b[39m*\u001b[39m\u001b[39m*\u001b[39mkwargs)\n\u001b[1;32m--> 122\u001b[0m conn \u001b[39m=\u001b[39m _connect(dsn, connection_factory\u001b[39m=\u001b[39mconnection_factory, \u001b[39m*\u001b[39m\u001b[39m*\u001b[39mkwasync)\n\u001b[0;32m    123\u001b[0m \u001b[39mif\u001b[39;00m cursor_factory \u001b[39mis\u001b[39;00m \u001b[39mnot\u001b[39;00m \u001b[39mNone\u001b[39;00m:\n\u001b[0;32m    124\u001b[0m     conn\u001b[39m.\u001b[39mcursor_factory \u001b[39m=\u001b[39m cursor_factory\n",
      "\u001b[1;31mOperationalError\u001b[0m: connection to server at \"zubdb.cabyoqiwyaa1.us-west-1.rds.amazonaws.com\" (52.53.110.229), port 5432 failed: FATAL:  database \"zubdb\" does not exist\n"
     ]
    }
   ],
   "source": [
    "conn_string = \"host= zubdb.cabyoqiwyaa1.us-west-1.rds.amazonaws.com dbname= zubdb user= zubdev password= \" \n",
    "conn = psycopg2.connect(conn_string)\n",
    "cursor = conn.cursor()\n",
    "print('opened database successfully')"
   ]
  },
  {
   "cell_type": "code",
   "execution_count": null,
   "metadata": {},
   "outputs": [],
   "source": []
  }
 ],
 "metadata": {
  "kernelspec": {
   "display_name": "Python 3.9.12 ('base')",
   "language": "python",
   "name": "python3"
  },
  "language_info": {
   "codemirror_mode": {
    "name": "ipython",
    "version": 3
   },
   "file_extension": ".py",
   "mimetype": "text/x-python",
   "name": "python",
   "nbconvert_exporter": "python",
   "pygments_lexer": "ipython3",
   "version": "3.9.12"
  },
  "orig_nbformat": 4,
  "vscode": {
   "interpreter": {
    "hash": "48b0616dffff3b7662136d045a5b5e926284a2b8382e9a5a6cebe7bf4e8018d9"
   }
  }
 },
 "nbformat": 4,
 "nbformat_minor": 2
}
